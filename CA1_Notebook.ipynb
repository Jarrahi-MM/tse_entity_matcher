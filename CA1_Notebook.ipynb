{
 "cells": [
  {
   "cell_type": "code",
   "execution_count": 1,
   "id": "37eda1af",
   "metadata": {},
   "outputs": [
    {
     "name": "stdout",
     "output_type": "stream",
     "text": [
      "CPU times: user 16.8 s, sys: 198 ms, total: 17 s\n",
      "Wall time: 17 s\n"
     ]
    }
   ],
   "source": [
    "%%time\n",
    "import unittest\n",
    "import json\n",
    "from namad_matcher import find, run\n",
    "# This takes a little time. Because it compiles many many regular expressions."
   ]
  },
  {
   "cell_type": "code",
   "execution_count": 2,
   "id": "c91aff3a",
   "metadata": {},
   "outputs": [],
   "source": [
    "def run(text: str):\n",
    "    dict_list = find(text)\n",
    "    print(json.dumps(dict_list, indent=4, ensure_ascii=False).encode('utf8').decode())"
   ]
  },
  {
   "cell_type": "markdown",
   "id": "3a9609ed",
   "metadata": {},
   "source": [
    "<div dir=\"rtl\">\n",
    "<p>\n",
    "<i>\n",
    "تیم ۲۰ بازیابی\n",
    "نگین جعفری،\n",
    "محمدمهدی جراحی،\n",
    "امین قاسم‌زاده\n",
    "</i>\n",
    "</p>\n",
    "<p>\n",
    "لیست نمادها و اسامی بورسی در فایل‌های bourseview_symbols_details.json و rahavard_symbols_details.json موجود هستند. این داده‌ها کرال شده‌اند.\n",
    "</p>\n",
    "<p>\n",
    "همچنین لیست وقایع بورسی در events.xlsx است. این وقایع قابلیت پشتبانی از regex را دارند. همچنین در صورتی که نیاز به وجود عدد است، می‌توانید از #NUM استفاده کنید. در ادامه به کمک توابع parsi.io در نظر گرفته خواهد شد.\n",
    "</p>\n",
    "<p>\n",
    "همچنین لیست اسامی بی‌ارزش (مثلا فولاد مبارکه اصفهان با فولاد مبارکه تفاوت ندارد. پس اصفهان جزو کلمات بی‌ارزش است.) در junk_words.xlsx است.\n",
    "</p>\n",
    "<p>\n",
    "در فایل پایتون namad_matcher.py ما داده‌ها را می‌خوانیم و عبارات منظم بسیار متنوعی می‌سازیم. مثلا نیم‌فاصله‌ها ها را در نظر می‌گیریم. ی نکره را در نظر می‌گیریم. وجود یا عدم وجود کلمات junk را در نظر می‌گیریم. اعداد را شناسایی می‌کنیم. در صورتی که یکی از اسپن‌های کشف شده زیر مجموعه‌ی دیگری باشد، اسپن کوچکتر را نادیده می‌گیریم.\n",
    "</p>\n",
    "<p>\n",
    "یکی از مزایای بسیار بزرگ کد ما، در نظر گرفتن کلمات junk است. مثلا فولاد مبارکه اصفهان با فولاد مبارکه تفاوت ندارد.\n",
    "</p>\n",
    "<p>\n",
    "یکی دیگر از مزایای بزرگ کد ما، در نظر گرفتن نمادهای حق‌تقدم می‌باشد.\n",
    "</p>\n",
    "<p>\n",
    "<b>\n",
    "از آنجا که کرال کردن و تمیز کردن‌های اولیه مانند تبدیل حروف عربی به فارسی، جزو اهداف تمرین ۲ می‌باشد، ما در این تمرین فرض را بر این می‌گذاریم که داده‌ها کرال شده و برخی تمیزکاری‌های بسیار مقدماتی مانند حذف علائم نگارشی و حذف کسره/فتحه/تشدید/... پ تبدیل حروف عربی به فارسی، حذف کشـــــیدگی‌ها، از قبل انجام شده‌است. همچنین فرض بر این است که در متن، علامت ~ موجود نمی‌باشد و در صورت وجود حذف شده‌است. زیرا از این علامت خاص در کدهایمان استفاده‌ی خاصی کرده ایم.\n",
    "</b>\n",
    "</p>\n",
    "<p>\n",
    "کدهای زده شده بسیار پیچیده‌تر از آن هستند که در متن بگنجند و به صورت متنی قابل درک نخواهند بود. توضیحات تکمیلی را در جلسه تحویل حضوری ارائه خواهیم کرد.\n",
    "</p>\n",
    "</div>"
   ]
  },
  {
   "cell_type": "markdown",
   "id": "20ca55f3",
   "metadata": {},
   "source": [
    "1. test_find_1"
   ]
  },
  {
   "cell_type": "code",
   "execution_count": 3,
   "id": "638c0568",
   "metadata": {},
   "outputs": [
    {
     "name": "stdout",
     "output_type": "stream",
     "text": [
      "[\n",
      "    {\n",
      "        \"type\": \"نماد\",\n",
      "        \"type_detailed\": \"نماد شرکت\",\n",
      "        \"symbol\": \"فولاد\",\n",
      "        \"marker\": \"فولاد مبارکه اصفهان\",\n",
      "        \"span\": [\n",
      "            0,\n",
      "            19\n",
      "        ]\n",
      "    }\n",
      "]\n"
     ]
    }
   ],
   "source": [
    "text = \"فولاد مبارکه اصفهان\"\n",
    "run(text)"
   ]
  },
  {
   "cell_type": "markdown",
   "id": "95bf30de",
   "metadata": {},
   "source": [
    "1. test_find_2"
   ]
  },
  {
   "cell_type": "code",
   "execution_count": 4,
   "id": "d4f19bf9",
   "metadata": {},
   "outputs": [
    {
     "name": "stdout",
     "output_type": "stream",
     "text": [
      "[\n",
      "    {\n",
      "        \"type\": \"نماد\",\n",
      "        \"type_detailed\": \"نماد شرکت\",\n",
      "        \"symbol\": \"فولاد\",\n",
      "        \"marker\": \"فولاد مبارکه‌ی اصفهان\",\n",
      "        \"span\": [\n",
      "            0,\n",
      "            21\n",
      "        ]\n",
      "    }\n",
      "]\n"
     ]
    }
   ],
   "source": [
    "text = \"فولاد مبارکه‌ی اصفهان\"\n",
    "run(text)"
   ]
  },
  {
   "cell_type": "markdown",
   "id": "84fb381a",
   "metadata": {},
   "source": [
    "1. test_find_3"
   ]
  },
  {
   "cell_type": "code",
   "execution_count": 5,
   "id": "232ce53a",
   "metadata": {},
   "outputs": [
    {
     "name": "stdout",
     "output_type": "stream",
     "text": [
      "[\n",
      "    {\n",
      "        \"type\": \"نماد\",\n",
      "        \"type_detailed\": \"نماد شرکت\",\n",
      "        \"symbol\": \"فزر\",\n",
      "        \"marker\": \"فزر\",\n",
      "        \"span\": [\n",
      "            19,\n",
      "            22\n",
      "        ]\n",
      "    },\n",
      "    {\n",
      "        \"type\": \"رشد سهم\",\n",
      "        \"marker\": \"۱۵.۲ واحد تاثیر مثبت\",\n",
      "        \"span\": [\n",
      "            26,\n",
      "            46\n",
      "        ]\n",
      "    },\n",
      "    {\n",
      "        \"type\": \"روند\",\n",
      "        \"marker\": \"روند صعودی\",\n",
      "        \"span\": [\n",
      "            50,\n",
      "            60\n",
      "        ]\n",
      "    },\n",
      "    {\n",
      "        \"type\": \"نماد\",\n",
      "        \"type_detailed\": \"نماد شرکت\",\n",
      "        \"symbol\": \"فرابورس\",\n",
      "        \"marker\": \"فرابورس\",\n",
      "        \"span\": [\n",
      "            67,\n",
      "            74\n",
      "        ]\n",
      "    }\n",
      "]\n"
     ]
    }
   ],
   "source": [
    "text = 'جریان آغاز معاملات فزر با ۱۵.۲ واحد تاثیر مثبت بر روند صعودی بازار فرابورس اثر گذار بود.'\n",
    "run(text)"
   ]
  },
  {
   "cell_type": "markdown",
   "id": "09983f75",
   "metadata": {},
   "source": [
    "1. test_find_4"
   ]
  },
  {
   "cell_type": "code",
   "execution_count": 6,
   "id": "9ad4e1a7",
   "metadata": {},
   "outputs": [
    {
     "name": "stdout",
     "output_type": "stream",
     "text": [
      "[\n",
      "    {\n",
      "        \"type\": \"نماد\",\n",
      "        \"type_detailed\": \"نماد شرکت\",\n",
      "        \"symbol\": \"برکت\",\n",
      "        \"marker\": \"برکت\",\n",
      "        \"span\": [\n",
      "            0,\n",
      "            4\n",
      "        ]\n",
      "    },\n",
      "    {\n",
      "        \"type\": \"اطلاعیه\",\n",
      "        \"marker\": \"افشای ب\",\n",
      "        \"span\": [\n",
      "            10,\n",
      "            17\n",
      "        ]\n",
      "    },\n",
      "    {\n",
      "        \"type\": \"رشد سهم\",\n",
      "        \"marker\": \"سه درصد مثبت\",\n",
      "        \"span\": [\n",
      "            30,\n",
      "            42\n",
      "        ]\n",
      "    }\n",
      "]\n"
     ]
    }
   ],
   "source": [
    "text = 'برکت همین افشای ب باعث شد سهم سه درصد مثبت شود. بخاطر همین میگم پیگیر باشید.'\n",
    "results = find(text)\n",
    "print(json.dumps(results, indent=4, ensure_ascii=False).encode('utf8').decode())"
   ]
  },
  {
   "cell_type": "markdown",
   "id": "7977faa9",
   "metadata": {},
   "source": [
    "1. test_find_5"
   ]
  },
  {
   "cell_type": "code",
   "execution_count": 7,
   "id": "bb3fadf0",
   "metadata": {},
   "outputs": [
    {
     "name": "stdout",
     "output_type": "stream",
     "text": [
      "[\n",
      "    {\n",
      "        \"type\": \"گزارش\",\n",
      "        \"marker\": \"گزارش فعالیت ماهانه\",\n",
      "        \"span\": [\n",
      "            0,\n",
      "            19\n",
      "        ]\n",
      "    },\n",
      "    {\n",
      "        \"type\": \"نماد\",\n",
      "        \"type_detailed\": \"نماد شرکت\",\n",
      "        \"symbol\": \"دیران\",\n",
      "        \"marker\": \"دیران\",\n",
      "        \"span\": [\n",
      "            57,\n",
      "            62\n",
      "        ]\n",
      "    }\n",
      "]\n"
     ]
    }
   ],
   "source": [
    "text = 'گزارش فعالیت ماهانه دوره ۱ ماهه منتهی به ۱۴۰۰̸۰۹̸۳۰ برای دیران منتشر شد.'\n",
    "results = find(text)\n",
    "print(json.dumps(results, indent=4, ensure_ascii=False).encode('utf8').decode())"
   ]
  },
  {
   "cell_type": "markdown",
   "id": "2c94cb5a",
   "metadata": {},
   "source": [
    "1. test_find_6"
   ]
  },
  {
   "cell_type": "code",
   "execution_count": 8,
   "id": "7efa271f",
   "metadata": {},
   "outputs": [
    {
     "name": "stdout",
     "output_type": "stream",
     "text": [
      "[\n",
      "    {\n",
      "        \"type\": \"نماد\",\n",
      "        \"type_detailed\": \"نماد شرکت\",\n",
      "        \"symbol\": \"وسین\",\n",
      "        \"marker\": \"Sina Insurance\",\n",
      "        \"span\": [\n",
      "            0,\n",
      "            14\n",
      "        ]\n",
      "    }\n",
      "]\n"
     ]
    }
   ],
   "source": [
    "text = 'Sina Insurance is a good Insurance company!'\n",
    "results = find(text)\n",
    "print(json.dumps(results, indent=4, ensure_ascii=False).encode('utf8').decode())"
   ]
  },
  {
   "cell_type": "markdown",
   "id": "7ed31ecd",
   "metadata": {},
   "source": [
    "1. test_find_7"
   ]
  },
  {
   "cell_type": "code",
   "execution_count": 9,
   "id": "59928739",
   "metadata": {},
   "outputs": [
    {
     "name": "stdout",
     "output_type": "stream",
     "text": [
      "[\n",
      "    {\n",
      "        \"type\": \"نماد\",\n",
      "        \"type_detailed\": \"نماد شرکت\",\n",
      "        \"symbol\": \"وسین\",\n",
      "        \"marker\": \"IRO7VSNP0001\",\n",
      "        \"span\": [\n",
      "            1,\n",
      "            13\n",
      "        ]\n",
      "    }\n",
      "]\n"
     ]
    }
   ],
   "source": [
    "text = ' IRO7VSNP0001 is a good Insurance company!'\n",
    "results = find(text)\n",
    "print(json.dumps(results, indent=4, ensure_ascii=False).encode('utf8').decode())"
   ]
  },
  {
   "cell_type": "markdown",
   "id": "1ad583f1",
   "metadata": {},
   "source": [
    "1. test_find_8"
   ]
  },
  {
   "cell_type": "code",
   "execution_count": 10,
   "id": "91eee420",
   "metadata": {},
   "outputs": [
    {
     "name": "stdout",
     "output_type": "stream",
     "text": [
      "[\n",
      "    {\n",
      "        \"type\": \"نماد\",\n",
      "        \"type_detailed\": \"نماد شرکت\",\n",
      "        \"symbol\": \"انرژی3\",\n",
      "        \"marker\": \"انرژی ۳\",\n",
      "        \"span\": [\n",
      "            0,\n",
      "            7\n",
      "        ]\n",
      "    },\n",
      "    {\n",
      "        \"type\": \"نماد\",\n",
      "        \"type_detailed\": \"نماد شرکت\",\n",
      "        \"symbol\": \"انرژی3\",\n",
      "        \"marker\": \"انرژی‌۳\",\n",
      "        \"span\": [\n",
      "            12,\n",
      "            19\n",
      "        ]\n",
      "    },\n",
      "    {\n",
      "        \"type\": \"نماد\",\n",
      "        \"type_detailed\": \"نماد شرکت\",\n",
      "        \"symbol\": \"انرژی3\",\n",
      "        \"marker\": \"انرژی۳\",\n",
      "        \"span\": [\n",
      "            23,\n",
      "            29\n",
      "        ]\n",
      "    },\n",
      "    {\n",
      "        \"type\": \"نماد\",\n",
      "        \"type_detailed\": \"نماد شرکت\",\n",
      "        \"symbol\": \"انرژی3\",\n",
      "        \"marker\": \"انرژی 3\",\n",
      "        \"span\": [\n",
      "            33,\n",
      "            40\n",
      "        ]\n",
      "    },\n",
      "    {\n",
      "        \"type\": \"نماد\",\n",
      "        \"type_detailed\": \"نماد شرکت\",\n",
      "        \"symbol\": \"انرژی3\",\n",
      "        \"marker\": \"انرژی‌3\",\n",
      "        \"span\": [\n",
      "            44,\n",
      "            51\n",
      "        ]\n",
      "    },\n",
      "    {\n",
      "        \"type\": \"نماد\",\n",
      "        \"type_detailed\": \"نماد شرکت\",\n",
      "        \"symbol\": \"انرژی3\",\n",
      "        \"marker\": \"انرژی3\",\n",
      "        \"span\": [\n",
      "            55,\n",
      "            61\n",
      "        ]\n",
      "    }\n",
      "]\n"
     ]
    }
   ],
   "source": [
    "text = 'انرژی ۳  یا انرژی‌۳ یا انرژی۳ یا انرژی 3 یا انرژی‌3 یا انرژی3 خیلی خوب است.'\n",
    "results = find(text)\n",
    "print(json.dumps(results, indent=4, ensure_ascii=False).encode('utf8').decode())"
   ]
  },
  {
   "cell_type": "markdown",
   "id": "d202ff44",
   "metadata": {},
   "source": [
    "1. test_find_9"
   ]
  },
  {
   "cell_type": "code",
   "execution_count": 11,
   "id": "7a27db35",
   "metadata": {},
   "outputs": [
    {
     "name": "stdout",
     "output_type": "stream",
     "text": [
      "[\n",
      "    {\n",
      "        \"type\": \"بازگشایی\",\n",
      "        \"marker\": \"بازگشایی\",\n",
      "        \"span\": [\n",
      "            4,\n",
      "            12\n",
      "        ]\n",
      "    }\n",
      "]\n"
     ]
    }
   ],
   "source": [
    "text = \"سهم بازگشایی شد\"\n",
    "results = find(text)\n",
    "print(json.dumps(results, indent=4, ensure_ascii=False).encode('utf8').decode())"
   ]
  },
  {
   "cell_type": "markdown",
   "id": "6fa1f0e1",
   "metadata": {},
   "source": [
    "1. test_find_10"
   ]
  },
  {
   "cell_type": "code",
   "execution_count": 12,
   "id": "e5c99b4e",
   "metadata": {},
   "outputs": [
    {
     "name": "stdout",
     "output_type": "stream",
     "text": [
      "[\n",
      "    {\n",
      "        \"type\": \"افزایش سرمایه\",\n",
      "        \"marker\": \"افزایش سرمایه\",\n",
      "        \"span\": [\n",
      "            4,\n",
      "            17\n",
      "        ]\n",
      "    }\n",
      "]\n"
     ]
    }
   ],
   "source": [
    "text = \"سهم افزایش سرمایه خورد\"\n",
    "results = find(text)\n",
    "print(json.dumps(results, indent=4, ensure_ascii=False).encode('utf8').decode())"
   ]
  },
  {
   "cell_type": "markdown",
   "id": "5ea4de87",
   "metadata": {},
   "source": [
    "1. test_find_11"
   ]
  },
  {
   "cell_type": "code",
   "execution_count": 13,
   "id": "aa1aec91",
   "metadata": {},
   "outputs": [
    {
     "name": "stdout",
     "output_type": "stream",
     "text": [
      "[\n",
      "    {\n",
      "        \"type\": \"صف\",\n",
      "        \"marker\": \"صف خرید\",\n",
      "        \"span\": [\n",
      "            17,\n",
      "            24\n",
      "        ]\n",
      "    }\n",
      "]\n"
     ]
    }
   ],
   "source": [
    "text = \"به لحظات 12.30 و صف خرید نزدیک می شویم\"\n",
    "results = find(text)\n",
    "print(json.dumps(results, indent=4, ensure_ascii=False).encode('utf8').decode())"
   ]
  },
  {
   "cell_type": "markdown",
   "id": "82b478bc",
   "metadata": {},
   "source": [
    "1. test_find_12"
   ]
  },
  {
   "cell_type": "code",
   "execution_count": 14,
   "id": "941782f7",
   "metadata": {},
   "outputs": [
    {
     "name": "stdout",
     "output_type": "stream",
     "text": [
      "[\n",
      "    {\n",
      "        \"type\": \"روند\",\n",
      "        \"marker\": \"روندی صعودی\",\n",
      "        \"span\": [\n",
      "            17,\n",
      "            28\n",
      "        ]\n",
      "    }\n",
      "]\n"
     ]
    }
   ],
   "source": [
    "text = \"به لحظات 12.30 و روندی صعودی نزدیک می شویم\"\n",
    "results = find(text)\n",
    "print(json.dumps(results, indent=4, ensure_ascii=False).encode('utf8').decode())"
   ]
  },
  {
   "cell_type": "markdown",
   "id": "bf670665",
   "metadata": {},
   "source": [
    "1. test_find_13"
   ]
  },
  {
   "cell_type": "code",
   "execution_count": 15,
   "id": "cc498c98",
   "metadata": {},
   "outputs": [
    {
     "name": "stdout",
     "output_type": "stream",
     "text": [
      "[\n",
      "    {\n",
      "        \"type\": \"تکنیکال\",\n",
      "        \"marker\": \"کندلی\",\n",
      "        \"span\": [\n",
      "            53,\n",
      "            58\n",
      "        ]\n",
      "    },\n",
      "    {\n",
      "        \"type\": \"تکنیکال\",\n",
      "        \"marker\": \"کندل\",\n",
      "        \"span\": [\n",
      "            130,\n",
      "            134\n",
      "        ]\n",
      "    },\n",
      "    {\n",
      "        \"type\": \"تکنیکال\",\n",
      "        \"marker\": \"پولبک\",\n",
      "        \"span\": [\n",
      "            197,\n",
      "            202\n",
      "        ]\n",
      "    }\n",
      "]\n"
     ]
    }
   ],
   "source": [
    "text = 'یک نکته  تکنیکالی هم در صورت دستکاری نشدن اضافه کنم؛ کندلی که روز سه شنبه گذشته ثبت کرد بلحاظ فنی چون دو سوم آن از ابر خارج شده و کندل کاملی است و می تواند بعنوان تایید و خروج از ابر درنظر گرفت. و پولبک آن هم چهارشنبه توضیحاتش گذشت. '\n",
    "results = find(text)\n",
    "print(json.dumps(results, indent=4, ensure_ascii=False).encode('utf8').decode())"
   ]
  },
  {
   "cell_type": "markdown",
   "id": "57553b37",
   "metadata": {},
   "source": [
    "1. test_find_14"
   ]
  },
  {
   "cell_type": "code",
   "execution_count": 16,
   "id": "33331d13",
   "metadata": {},
   "outputs": [
    {
     "name": "stdout",
     "output_type": "stream",
     "text": [
      "[\n",
      "    {\n",
      "        \"type\": \"نماد\",\n",
      "        \"type_detailed\": \"نماد شرکت\",\n",
      "        \"symbol\": \"فراکاب\",\n",
      "        \"marker\": \"فراکابی\",\n",
      "        \"span\": [\n",
      "            0,\n",
      "            7\n",
      "        ]\n",
      "    },\n",
      "    {\n",
      "        \"type\": \"نماد\",\n",
      "        \"type_detailed\": \"نماد شرکت\",\n",
      "        \"symbol\": \"فراکاب\",\n",
      "        \"marker\": \"فراکاب\",\n",
      "        \"span\": [\n",
      "            23,\n",
      "            29\n",
      "        ]\n",
      "    },\n",
      "    {\n",
      "        \"type\": \"نماد\",\n",
      "        \"type_detailed\": \"نماد شرکت\",\n",
      "        \"symbol\": \"بورس\",\n",
      "        \"marker\": \"بورس\",\n",
      "        \"span\": [\n",
      "            46,\n",
      "            50\n",
      "        ]\n",
      "    },\n",
      "    {\n",
      "        \"type\": \"نماد\",\n",
      "        \"type_detailed\": \"نماد شرکت\",\n",
      "        \"symbol\": \"کالا\",\n",
      "        \"marker\": \"کالا\",\n",
      "        \"span\": [\n",
      "            53,\n",
      "            57\n",
      "        ]\n",
      "    },\n",
      "    {\n",
      "        \"type\": \"تکنیکال\",\n",
      "        \"marker\": \"کندل\",\n",
      "        \"span\": [\n",
      "            58,\n",
      "            62\n",
      "        ]\n",
      "    }\n",
      "]\n"
     ]
    }
   ],
   "source": [
    "text = \"فراکابی ها همگی خوبند. فراکاب ها و علی الخصوص بورس و کالا کندل پرقدرتی زدن\"\n",
    "results = find(text)\n",
    "print(json.dumps(results, indent=4, ensure_ascii=False).encode('utf8').decode())"
   ]
  },
  {
   "cell_type": "markdown",
   "id": "cf1c8ecb",
   "metadata": {},
   "source": [
    "1. test_find_15"
   ]
  },
  {
   "cell_type": "code",
   "execution_count": 17,
   "id": "f07c4278",
   "metadata": {},
   "outputs": [
    {
     "name": "stdout",
     "output_type": "stream",
     "text": [
      "[\n",
      "    {\n",
      "        \"type\": \"ریزش\",\n",
      "        \"marker\": \"ریزش\",\n",
      "        \"span\": [\n",
      "            0,\n",
      "            4\n",
      "        ]\n",
      "    }\n",
      "]\n"
     ]
    }
   ],
   "source": [
    "text = 'ریزش شدید جفت ارز های فارکس '\n",
    "results = find(text)\n",
    "print(json.dumps(results, indent=4, ensure_ascii=False).encode('utf8').decode())"
   ]
  },
  {
   "cell_type": "markdown",
   "id": "309656d2",
   "metadata": {},
   "source": [
    "1. test_find_16"
   ]
  },
  {
   "cell_type": "code",
   "execution_count": 18,
   "id": "526e25e5",
   "metadata": {},
   "outputs": [
    {
     "name": "stdout",
     "output_type": "stream",
     "text": [
      "[\n",
      "    {\n",
      "        \"type\": \"تکنیکال\",\n",
      "        \"marker\": \"کف\",\n",
      "        \"span\": [\n",
      "            6,\n",
      "            8\n",
      "        ]\n",
      "    },\n",
      "    {\n",
      "        \"type\": \"تکنیکال\",\n",
      "        \"marker\": \"دوقلو\",\n",
      "        \"span\": [\n",
      "            9,\n",
      "            14\n",
      "        ]\n",
      "    }\n",
      "]\n"
     ]
    }
   ],
   "source": [
    "text = 'تشکیل کف دوقلو و پیش بسوی ۱۲۰۰'\n",
    "results = find(text)\n",
    "print(json.dumps(results, indent=4, ensure_ascii=False).encode('utf8').decode())"
   ]
  },
  {
   "cell_type": "markdown",
   "id": "73df722d",
   "metadata": {},
   "source": [
    "1. test_find_17"
   ]
  },
  {
   "cell_type": "code",
   "execution_count": 19,
   "id": "5814ace4",
   "metadata": {},
   "outputs": [
    {
     "name": "stdout",
     "output_type": "stream",
     "text": [
      "[\n",
      "    {\n",
      "        \"type\": \"گزارش\",\n",
      "        \"marker\": \"گزارش نه ماهه\",\n",
      "        \"span\": [\n",
      "            0,\n",
      "            13\n",
      "        ]\n",
      "    }\n",
      "]\n"
     ]
    }
   ],
   "source": [
    "text = 'گزارش نه ماهه هم که خوب نبوده'\n",
    "results = find(text)\n",
    "print(json.dumps(results, indent=4, ensure_ascii=False).encode('utf8').decode())"
   ]
  },
  {
   "cell_type": "markdown",
   "id": "7bc239a2",
   "metadata": {},
   "source": [
    "1. test_find_18"
   ]
  },
  {
   "cell_type": "code",
   "execution_count": 20,
   "id": "08d7f449",
   "metadata": {},
   "outputs": [
    {
     "name": "stdout",
     "output_type": "stream",
     "text": [
      "[\n",
      "    {\n",
      "        \"type\": \"تکنیکال\",\n",
      "        \"marker\": \"سروشانه\",\n",
      "        \"span\": [\n",
      "            24,\n",
      "            31\n",
      "        ]\n",
      "    }\n",
      "]\n"
     ]
    }
   ],
   "source": [
    "text = 'در یک نگاه کلاسیک الگوی سروشانه رو هم ساخته'\n",
    "results = find(text)\n",
    "print(json.dumps(results, indent=4, ensure_ascii=False).encode('utf8').decode())"
   ]
  },
  {
   "cell_type": "markdown",
   "id": "588bc19f",
   "metadata": {},
   "source": [
    "1. test_find_19"
   ]
  },
  {
   "cell_type": "code",
   "execution_count": 21,
   "id": "a3219688",
   "metadata": {},
   "outputs": [
    {
     "name": "stdout",
     "output_type": "stream",
     "text": [
      "[\n",
      "    {\n",
      "        \"type\": \"تکنیکال\",\n",
      "        \"marker\": \"مکدی\",\n",
      "        \"span\": [\n",
      "            0,\n",
      "            4\n",
      "        ]\n",
      "    },\n",
      "    {\n",
      "        \"type\": \"تکنیکال\",\n",
      "        \"marker\": \"کراس\",\n",
      "        \"span\": [\n",
      "            26,\n",
      "            30\n",
      "        ]\n",
      "    }\n",
      "]\n"
     ]
    }
   ],
   "source": [
    "text = 'مکدی هم شرایط خوبی داره و کراس رو به بالا زده'\n",
    "results = find(text)\n",
    "print(json.dumps(results, indent=4, ensure_ascii=False).encode('utf8').decode())"
   ]
  },
  {
   "cell_type": "markdown",
   "id": "57d530a8",
   "metadata": {},
   "source": [
    "1. test_find_20"
   ]
  },
  {
   "cell_type": "code",
   "execution_count": 22,
   "id": "184488f2",
   "metadata": {},
   "outputs": [
    {
     "name": "stdout",
     "output_type": "stream",
     "text": [
      "[\n",
      "    {\n",
      "        \"type\": \"تکنیکال\",\n",
      "        \"marker\": \"ابر کومو\",\n",
      "        \"span\": [\n",
      "            18,\n",
      "            26\n",
      "        ]\n",
      "    },\n",
      "    {\n",
      "        \"type\": \"تکنیکال\",\n",
      "        \"marker\": \"کف سازی\",\n",
      "        \"span\": [\n",
      "            29,\n",
      "            36\n",
      "        ]\n",
      "    }\n",
      "]\n"
     ]
    }
   ],
   "source": [
    "text = ' بازار با عبور از ابر کومو و کف سازی دلاری'\n",
    "results = find(text)\n",
    "print(json.dumps(results, indent=4, ensure_ascii=False).encode('utf8').decode())"
   ]
  },
  {
   "cell_type": "markdown",
   "id": "65b98b8a",
   "metadata": {},
   "source": [
    "1. test_find_21"
   ]
  },
  {
   "cell_type": "code",
   "execution_count": 23,
   "id": "8a31080a",
   "metadata": {},
   "outputs": [
    {
     "name": "stdout",
     "output_type": "stream",
     "text": [
      "[\n",
      "    {\n",
      "        \"type\": \"تکنیکال\",\n",
      "        \"marker\": \"کد به کد\",\n",
      "        \"span\": [\n",
      "            3,\n",
      "            11\n",
      "        ]\n",
      "    }\n",
      "]\n"
     ]
    }
   ],
   "source": [
    "text = 'یه کد به کد داشت تو قیمت ۱۰۰۰'\n",
    "results = find(text)\n",
    "print(json.dumps(results, indent=4, ensure_ascii=False).encode('utf8').decode())"
   ]
  },
  {
   "cell_type": "markdown",
   "id": "382696e5",
   "metadata": {},
   "source": [
    "1. test_find_22"
   ]
  },
  {
   "cell_type": "code",
   "execution_count": 24,
   "id": "33d5cdc3",
   "metadata": {},
   "outputs": [
    {
     "name": "stdout",
     "output_type": "stream",
     "text": [
      "[\n",
      "    {\n",
      "        \"type\": \"توقف نماد\",\n",
      "        \"marker\": \"توقف نماد\",\n",
      "        \"span\": [\n",
      "            7,\n",
      "            16\n",
      "        ]\n",
      "    }\n",
      "]\n"
     ]
    }
   ],
   "source": [
    "text = ' پس از توقف نماد معاملاتی باز خواهد شد.'\n",
    "results = find(text)\n",
    "print(json.dumps(results, indent=4, ensure_ascii=False).encode('utf8').decode())"
   ]
  },
  {
   "cell_type": "markdown",
   "id": "522e8a08",
   "metadata": {},
   "source": [
    "1. test_find_23"
   ]
  },
  {
   "cell_type": "code",
   "execution_count": 25,
   "id": "d28d152a",
   "metadata": {},
   "outputs": [
    {
     "name": "stdout",
     "output_type": "stream",
     "text": [
      "[\n",
      "    {\n",
      "        \"type\": \"نماد\",\n",
      "        \"type_detailed\": \"نماد شرکت\",\n",
      "        \"symbol\": \"انرژی2\",\n",
      "        \"marker\": \"انرژی ۲\",\n",
      "        \"span\": [\n",
      "            13,\n",
      "            20\n",
      "        ]\n",
      "    }\n",
      "]\n"
     ]
    }
   ],
   "source": [
    "text = 'خبر دارم از #انرژی ۲'\n",
    "results = find(text)\n",
    "print(json.dumps(results, indent=4, ensure_ascii=False).encode('utf8').decode())"
   ]
  },
  {
   "cell_type": "markdown",
   "id": "b27ce96d",
   "metadata": {},
   "source": [
    "1. test_find_24"
   ]
  },
  {
   "cell_type": "code",
   "execution_count": 26,
   "id": "e0609f5a",
   "metadata": {},
   "outputs": [
    {
     "name": "stdout",
     "output_type": "stream",
     "text": [
      "[\n",
      "    {\n",
      "        \"type\": \"نماد\",\n",
      "        \"type_detailed\": \"نماد شرکت\",\n",
      "        \"symbol\": \"فولاد\",\n",
      "        \"marker\": \"فولاد مبارکه\",\n",
      "        \"span\": [\n",
      "            4,\n",
      "            16\n",
      "        ]\n",
      "    },\n",
      "    {\n",
      "        \"type\": \"نماد\",\n",
      "        \"type_detailed\": \"نماد شرکت\",\n",
      "        \"symbol\": \"فولاد\",\n",
      "        \"marker\": \"فولاد مبارکه‌ی\",\n",
      "        \"span\": [\n",
      "            38,\n",
      "            52\n",
      "        ]\n",
      "    }\n",
      "]\n"
     ]
    }
   ],
   "source": [
    "text = \"سهم فولاد مبارکه بسیار عالی است و سهم فولاد مبارکه‌ی شهر اصفهان عالی است.\"\n",
    "results = find(text)\n",
    "print(json.dumps(results, indent=4, ensure_ascii=False).encode('utf8').decode())"
   ]
  },
  {
   "cell_type": "markdown",
   "id": "f9a89396",
   "metadata": {},
   "source": [
    "1. test_find_25"
   ]
  },
  {
   "cell_type": "code",
   "execution_count": 27,
   "id": "d341f084",
   "metadata": {},
   "outputs": [
    {
     "name": "stdout",
     "output_type": "stream",
     "text": [
      "[\n",
      "    {\n",
      "        \"type\": \"نماد\",\n",
      "        \"type_detailed\": \"نماد شرکت\",\n",
      "        \"symbol\": \"شبندر\",\n",
      "        \"marker\": \"پالایش بندرعباس\",\n",
      "        \"span\": [\n",
      "            0,\n",
      "            15\n",
      "        ]\n",
      "    }\n",
      "]\n"
     ]
    }
   ],
   "source": [
    "text = 'پالایش بندرعباس دارم ببین اصن عالیه'\n",
    "results = find(text)\n",
    "print(json.dumps(results, indent=4, ensure_ascii=False).encode('utf8').decode())"
   ]
  },
  {
   "cell_type": "markdown",
   "id": "12877180",
   "metadata": {},
   "source": [
    "1. test_find_26"
   ]
  },
  {
   "cell_type": "code",
   "execution_count": 28,
   "id": "eca08572",
   "metadata": {},
   "outputs": [
    {
     "name": "stdout",
     "output_type": "stream",
     "text": [
      "[\n",
      "    {\n",
      "        \"type\": \"نماد\",\n",
      "        \"type_detailed\": \"نماد شرکت\",\n",
      "        \"symbol\": \"نفت قشم\",\n",
      "        \"marker\": \"نفت قشم\",\n",
      "        \"span\": [\n",
      "            0,\n",
      "            7\n",
      "        ]\n",
      "    }\n",
      "]\n"
     ]
    }
   ],
   "source": [
    "text = 'نفت قشم ولک عالیه'\n",
    "results = find(text)\n",
    "print(json.dumps(results, indent=4, ensure_ascii=False).encode('utf8').decode())"
   ]
  },
  {
   "cell_type": "markdown",
   "id": "6083d36d",
   "metadata": {},
   "source": [
    "1. test_find_hagh_1"
   ]
  },
  {
   "cell_type": "code",
   "execution_count": 29,
   "id": "33156fa0",
   "metadata": {},
   "outputs": [
    {
     "name": "stdout",
     "output_type": "stream",
     "text": [
      "[\n",
      "    {\n",
      "        \"type\": \"نماد\",\n",
      "        \"type_detailed\": \"نماد حق تقدم شرکت\",\n",
      "        \"symbol\": \"کویر\",\n",
      "        \"marker\": \"کویرح\",\n",
      "        \"span\": [\n",
      "            3,\n",
      "            8\n",
      "        ]\n",
      "    },\n",
      "    {\n",
      "        \"type\": \"نماد\",\n",
      "        \"type_detailed\": \"نماد شرکت\",\n",
      "        \"symbol\": \"کویر\",\n",
      "        \"marker\": \"کویر\",\n",
      "        \"span\": [\n",
      "            24,\n",
      "            28\n",
      "        ]\n",
      "    }\n",
      "]\n"
     ]
    }
   ],
   "source": [
    "text = \"من کویرح را فروختم و به کویر تبدیل کردم.\"\n",
    "results = find(text)\n",
    "print(json.dumps(results, indent=4, ensure_ascii=False).encode('utf8').decode())"
   ]
  },
  {
   "cell_type": "markdown",
   "id": "526ea31b",
   "metadata": {},
   "source": [
    "1. test_find_hagh_2"
   ]
  },
  {
   "cell_type": "code",
   "execution_count": 30,
   "id": "b2dd7d74",
   "metadata": {},
   "outputs": [
    {
     "name": "stdout",
     "output_type": "stream",
     "text": [
      "[\n",
      "    {\n",
      "        \"type\": \"نماد\",\n",
      "        \"type_detailed\": \"نماد حق تقدم شرکت\",\n",
      "        \"symbol\": \"کویر\",\n",
      "        \"marker\": \"حق تقدم کویر\",\n",
      "        \"span\": [\n",
      "            7,\n",
      "            19\n",
      "        ]\n",
      "    }\n",
      "]\n"
     ]
    }
   ],
   "source": [
    "text = \"من سهم حق تقدم کویر را خریدم\"\n",
    "results = find(text)\n",
    "print(json.dumps(results, indent=4, ensure_ascii=False).encode('utf8').decode())"
   ]
  },
  {
   "cell_type": "markdown",
   "id": "66ddc7b5",
   "metadata": {},
   "source": [
    "1. test_find_hagh_3"
   ]
  },
  {
   "cell_type": "code",
   "execution_count": 31,
   "id": "57288337",
   "metadata": {},
   "outputs": [
    {
     "name": "stdout",
     "output_type": "stream",
     "text": [
      "[\n",
      "    {\n",
      "        \"type\": \"نماد\",\n",
      "        \"type_detailed\": \"نماد حق تقدم شرکت\",\n",
      "        \"symbol\": \"کویر\",\n",
      "        \"marker\": \"حق‌تقدم کویر\",\n",
      "        \"span\": [\n",
      "            7,\n",
      "            19\n",
      "        ]\n",
      "    }\n",
      "]\n"
     ]
    }
   ],
   "source": [
    "text = \"من سهم حق‌تقدم کویر را خریدم\"\n",
    "results = find(text)\n",
    "print(json.dumps(results, indent=4, ensure_ascii=False).encode('utf8').decode())"
   ]
  },
  {
   "cell_type": "markdown",
   "id": "0adccd84",
   "metadata": {},
   "source": [
    "1. test_find_hagh_4"
   ]
  },
  {
   "cell_type": "code",
   "execution_count": 32,
   "id": "325b965b",
   "metadata": {},
   "outputs": [
    {
     "name": "stdout",
     "output_type": "stream",
     "text": [
      "[\n",
      "    {\n",
      "        \"type\": \"نماد\",\n",
      "        \"type_detailed\": \"نماد حق تقدم شرکت\",\n",
      "        \"symbol\": \"کویر\",\n",
      "        \"marker\": \"تقدم کویر\",\n",
      "        \"span\": [\n",
      "            7,\n",
      "            16\n",
      "        ]\n",
      "    }\n",
      "]\n"
     ]
    }
   ],
   "source": [
    "text = \"من سهم تقدم کویر را خریدم\"\n",
    "results = find(text)\n",
    "print(json.dumps(results, indent=4, ensure_ascii=False).encode('utf8').decode())"
   ]
  },
  {
   "cell_type": "markdown",
   "id": "29bcd72a",
   "metadata": {},
   "source": [
    "# بررسی سرعت عملکرد کدها"
   ]
  },
  {
   "cell_type": "code",
   "execution_count": 35,
   "id": "fc871f0f",
   "metadata": {},
   "outputs": [
    {
     "name": "stdout",
     "output_type": "stream",
     "text": [
      "CPU times: user 2min 15s, sys: 221 ms, total: 2min 16s\n",
      "Wall time: 2min 16s\n"
     ]
    }
   ],
   "source": [
    "%%time\n",
    "## Test Speed on 500KB text.\n",
    "from namad_matcher import *\n",
    "\n",
    "comments = pd.read_csv(\"comments.csv\")\n",
    "for index, row in comments.iterrows():\n",
    "    find(row['body'])"
   ]
  },
  {
   "cell_type": "code",
   "execution_count": null,
   "id": "a4d0851c",
   "metadata": {},
   "outputs": [],
   "source": []
  }
 ],
 "metadata": {
  "kernelspec": {
   "display_name": "Python 3 (ipykernel)",
   "language": "python",
   "name": "python3"
  },
  "language_info": {
   "codemirror_mode": {
    "name": "ipython",
    "version": 3
   },
   "file_extension": ".py",
   "mimetype": "text/x-python",
   "name": "python",
   "nbconvert_exporter": "python",
   "pygments_lexer": "ipython3",
   "version": "3.9.7"
  }
 },
 "nbformat": 4,
 "nbformat_minor": 5
}
