{
 "cells": [
  {
   "cell_type": "markdown",
   "metadata": {
    "pycharm": {
     "name": "#%% md\n"
    }
   },
   "source": [
    "<div dir=\"rtl\">\n",
    "تیم ۲۰ بازیابی:\n",
    "نگین جعفری،\n",
    "محمدمهدی جراحی،\n",
    "امین قاسم‌زاده\n",
    "</div>"
   ]
  },
  {
   "cell_type": "code",
   "execution_count": 1,
   "metadata": {
    "pycharm": {
     "name": "#%%\n"
    }
   },
   "outputs": [
    {
     "name": "stderr",
     "output_type": "stream",
     "text": [
      "100%|██████████| 984/984 [00:10<00:00, 91.89it/s] \n",
      "100%|██████████| 620/620 [00:04<00:00, 128.61it/s]\n",
      "16it [00:00, 594.49it/s]\n"
     ]
    }
   ],
   "source": [
    "# !pip install pandas, tqdm\n",
    "import json\n",
    "import tse_entity_matcher as tem\n",
    "import tqdm\n",
    "# This takes a little time. Because it compiles many regular expressions."
   ]
  },
  {
   "cell_type": "markdown",
   "metadata": {},
   "source": [
    "<div dir=\"rtl\">\n",
    "کدهای اصلی در فایل پایتون قرار داده شده‌اند و در آنجا نیز توضیح مختصری درباره‌ی نحوه‌ی عملکرد داده‌ایم. در این نوت‌بوک صرفا اجرای کدها رو برخی نمونه‌ها را خواهیم دید.\n",
    "</div>"
   ]
  },
  {
   "cell_type": "markdown",
   "metadata": {
    "pycharm": {
     "name": "#%% md\n"
    }
   },
   "source": [
    "<div dir=\"rtl\">\n",
    "لیست نمادها و اسامی بورسی در فایل‌های bourseview_symbols_details.json و rahavard_symbols_details.json موجود هستند. این داده‌ها کرال شده‌اند.\n",
    "</div>"
   ]
  },
  {
   "cell_type": "code",
   "execution_count": 2,
   "metadata": {
    "pycharm": {
     "name": "#%%\n"
    }
   },
   "outputs": [
    {
     "data": {
      "text/plain": "{'isin': 'IRO3Z0290001',\n 'symbolPouya': 'Z0291',\n 'symbolPouyaFa': 'نفت قشم',\n 'namePouya': 'Gheshm Oil Co.',\n 'namePouyaFa': 'سرمایه گذاری نفت قشم',\n 'type': 'CommonStock',\n 'tseTickerKey': '15082904528024302',\n 'numberOfOutstandingShares': 30294000,\n 'marketCap': 302940000000,\n 'freeFloat': None,\n 'tickerTypeKey': 1,\n 'tickerKey': 74720,\n 'company_type_key': None,\n 'exchange': {'isin': 'IRIFBNO',\n  'symbolLocal': 'IFB',\n  'symbolPouya': 'IRIFB',\n  'namePouya': 'Iran Fara Bourse',\n  'tradingState': 'Close'},\n 'indices': {'indexOverallPouya': {'isin': 'IREXOVERALLINDEX',\n   'exchange': {'isin': 'IREX'},\n   'namePouya': 'Iran Exchange'}},\n 'company': None,\n 'industry': {'industryName': 'Unknown',\n  'isin': 'Unknown',\n  'sectorKey': 0,\n  'sectorName': 'Unknown',\n  'industryFaName': 'نامشخص',\n  'sectorFaName': 'نامشخص',\n  'tickers': []}}"
     },
     "execution_count": 2,
     "metadata": {},
     "output_type": "execute_result"
    }
   ],
   "source": [
    "tem.bourseview_symbols_details['items'][0]"
   ]
  },
  {
   "cell_type": "markdown",
   "metadata": {
    "pycharm": {
     "name": "#%% md\n"
    }
   },
   "source": [
    "<div dir=\"rtl\">\n",
    "همچنین لیست وقایع بورسی در events.xlsx است. این وقایع قابلیت پشتبانی از regex را دارند. همچنین در صورتی که نیاز به وجود عدد است، می‌توانید از #NUM استفاده کنید. در ادامه به کمک توابع parsi.io در نظر گرفته خواهد شد.\n",
    "</div>\n",
    "<div dir=\"rtl\">\n",
    "برای ادامه‌ی توسعه‌ی ماژول نوشته شده، لازم است لیست اصطلاحات در فایل اکسل به مرور تکمیل شود.\n",
    "</div>"
   ]
  },
  {
   "cell_type": "code",
   "execution_count": 3,
   "metadata": {
    "pycharm": {
     "name": "#%%\n"
    }
   },
   "outputs": [
    {
     "data": {
      "text/plain": "                                           رجکس اصلاح     نوع اصطلاح\n0                     (#NUM )؟(درصد |واحد )؟(ضرر|سود)        سود/ضرر\n1   (اطلاعیه (ی )؟|آگهی |اعلامیه )؟((افشا (ی )؟(اط...        اطلاعیه\n2                                       (حقیقی|حقوقی)          شخصیت\n3               (#NUM درصد |#NUM واحد )؟افزایش سرمایه  افزایش سرمایه\n4                                           تقسیم سود      تقسیم سود\n5                                    دامنه (ی )؟نوسان    دامنه نوسان\n6                                       نوسان( شدید)؟          نوسان\n7                            سهم (رانتی|خوب|بد|آشغال)        صفت سهم\n8          (#NUM )؟(درصد |واحد )؟(تاثیر )؟(مثبت|منفی)        رشد سهم\n9      گزارش( فعالیت)؟ (ماهانه|فصلی|سالانه|#NUM ماهه)          گزارش\n10                                           بازگشایی       بازگشایی\n11                                    صف( خرید| فروش)             صف\n12                                روند( صعودی| نزولی)           روند\n13  (کندل|پول بک|ابر کومو|دو قلو|سقف|کف سازی|کف|سر...        تکنیکال\n14                                               ریزش           ریزش\n15                                          توقف نماد      توقف نماد",
      "text/html": "<div>\n<style scoped>\n    .dataframe tbody tr th:only-of-type {\n        vertical-align: middle;\n    }\n\n    .dataframe tbody tr th {\n        vertical-align: top;\n    }\n\n    .dataframe thead th {\n        text-align: right;\n    }\n</style>\n<table border=\"1\" class=\"dataframe\">\n  <thead>\n    <tr style=\"text-align: right;\">\n      <th></th>\n      <th>رجکس اصلاح</th>\n      <th>نوع اصطلاح</th>\n    </tr>\n  </thead>\n  <tbody>\n    <tr>\n      <th>0</th>\n      <td>(#NUM )؟(درصد |واحد )؟(ضرر|سود)</td>\n      <td>سود/ضرر</td>\n    </tr>\n    <tr>\n      <th>1</th>\n      <td>(اطلاعیه (ی )؟|آگهی |اعلامیه )؟((افشا (ی )؟(اط...</td>\n      <td>اطلاعیه</td>\n    </tr>\n    <tr>\n      <th>2</th>\n      <td>(حقیقی|حقوقی)</td>\n      <td>شخصیت</td>\n    </tr>\n    <tr>\n      <th>3</th>\n      <td>(#NUM درصد |#NUM واحد )؟افزایش سرمایه</td>\n      <td>افزایش سرمایه</td>\n    </tr>\n    <tr>\n      <th>4</th>\n      <td>تقسیم سود</td>\n      <td>تقسیم سود</td>\n    </tr>\n    <tr>\n      <th>5</th>\n      <td>دامنه (ی )؟نوسان</td>\n      <td>دامنه نوسان</td>\n    </tr>\n    <tr>\n      <th>6</th>\n      <td>نوسان( شدید)؟</td>\n      <td>نوسان</td>\n    </tr>\n    <tr>\n      <th>7</th>\n      <td>سهم (رانتی|خوب|بد|آشغال)</td>\n      <td>صفت سهم</td>\n    </tr>\n    <tr>\n      <th>8</th>\n      <td>(#NUM )؟(درصد |واحد )؟(تاثیر )؟(مثبت|منفی)</td>\n      <td>رشد سهم</td>\n    </tr>\n    <tr>\n      <th>9</th>\n      <td>گزارش( فعالیت)؟ (ماهانه|فصلی|سالانه|#NUM ماهه)</td>\n      <td>گزارش</td>\n    </tr>\n    <tr>\n      <th>10</th>\n      <td>بازگشایی</td>\n      <td>بازگشایی</td>\n    </tr>\n    <tr>\n      <th>11</th>\n      <td>صف( خرید| فروش)</td>\n      <td>صف</td>\n    </tr>\n    <tr>\n      <th>12</th>\n      <td>روند( صعودی| نزولی)</td>\n      <td>روند</td>\n    </tr>\n    <tr>\n      <th>13</th>\n      <td>(کندل|پول بک|ابر کومو|دو قلو|سقف|کف سازی|کف|سر...</td>\n      <td>تکنیکال</td>\n    </tr>\n    <tr>\n      <th>14</th>\n      <td>ریزش</td>\n      <td>ریزش</td>\n    </tr>\n    <tr>\n      <th>15</th>\n      <td>توقف نماد</td>\n      <td>توقف نماد</td>\n    </tr>\n  </tbody>\n</table>\n</div>"
     },
     "execution_count": 3,
     "metadata": {},
     "output_type": "execute_result"
    }
   ],
   "source": [
    "tem.events_df"
   ]
  },
  {
   "cell_type": "markdown",
   "metadata": {
    "pycharm": {
     "name": "#%% md\n"
    }
   },
   "source": [
    "<div dir=\"rtl\">\n",
    "همچنین لیست اسامی بی‌ارزش (مثلا فولاد مبارکه اصفهان با فولاد مبارکه تفاوت ندارد. پس اصفهان جزو کلمات بی‌ارزش است.) در junk_words.xlsx است.\n",
    "</div>\n",
    "<div dir=\"rtl\">\n",
    "برای ادامه‌ی توسعه‌ی ماژول نوشته شده، لازم است لیست لغات بی‌ارزش در فایل اکسل به مرور تکمیل شود.\n",
    "</div>"
   ]
  },
  {
   "cell_type": "code",
   "execution_count": 4,
   "metadata": {
    "pycharm": {
     "name": "#%%\n"
    }
   },
   "outputs": [
    {
     "data": {
      "text/plain": "0    اصفهان\n1       نفت\nName: لیست بخش‌های تکراری اسامی, dtype: object"
     },
     "execution_count": 4,
     "metadata": {},
     "output_type": "execute_result"
    }
   ],
   "source": [
    "tem.junk_words_df"
   ]
  },
  {
   "cell_type": "code",
   "execution_count": 5,
   "metadata": {},
   "outputs": [],
   "source": [
    "def run(text: str):\n",
    "    dict_list = tem.find_entities(text)\n",
    "    print(json.dumps(dict_list, indent=4, ensure_ascii=False).encode('utf8').decode())"
   ]
  },
  {
   "cell_type": "markdown",
   "metadata": {},
   "source": [
    "\n",
    "\n",
    "\n",
    "\n",
    "<div dir=\"rtl\">\n",
    "در فایل پایتون tse_entity_matcher.py ما داده‌ها را می‌خوانیم و عبارات منظم بسیار متنوعی می‌سازیم. مثلا نیم‌فاصله‌ها ها را در نظر می‌گیریم. ی نکره را در نظر می‌گیریم. وجود یا عدم وجود کلمات junk را در نظر می‌گیریم. اعداد را شناسایی می‌کنیم. در صورتی که یکی از اسپن‌های کشف شده زیر مجموعه‌ی دیگری باشد، اسپن کوچکتر را نادیده می‌گیریم.\n",
    "</div>\n",
    "<div dir=\"rtl\">\n",
    "یکی از مزایای بسیار بزرگ کد ما، در نظر گرفتن کلمات junk است. مثلا فولاد مبارکه اصفهان با فولاد مبارکه تفاوت ندارد.\n",
    "</div>\n",
    "<div dir=\"rtl\">\n",
    "یکی دیگر از مزایای بزرگ کد ما، در نظر گرفتن نمادهای حق‌تقدم می‌باشد.\n",
    "</div>\n",
    "<div dir=\"rtl\">\n",
    "<b>\n",
    "از آنجا که کرال کردن و تمیز کردن‌های اولیه مانند تبدیل حروف عربی به فارسی، جزو اهداف تمرین ۲ می‌باشد، ما در این تمرین فرض را بر این می‌گذاریم که داده‌ها کرال شده و برخی تمیزکاری‌های بسیار مقدماتی مانند حذف علائم نگارشی و حذف کسره/فتحه/تشدید/... و تبدیل حروف عربی به فارسی، حذف کشـــــیدگی‌ها، از قبل انجام شده‌است. همچنین فرض بر این است که در متن، علامت ~ موجود نمی‌باشد و در صورت وجود حذف شده‌است. زیرا از این علامت خاص در کدهایمان استفاده‌ی خاصی کرده‌ایم.\n",
    "</b>\n",
    "</div>\n",
    "<div dir=\"rtl\">\n",
    "توضیحات تکمیلی درباره‌ی نحوه‌ی عملکرد ماژول نوشته شده، در فایل پایتون در کنار کدها قرار دارد. در این نوت‌بوک صرفا اجرای کدها رو برخی نمونه‌ها را خواهیم دید.\n",
    "</div>\n"
   ]
  },
  {
   "cell_type": "markdown",
   "metadata": {},
   "source": [
    "test_find_1\n",
    "<div dir=\"rtl\">\n",
    "تشخیص نام دقیق شرکت‌ها\n",
    "</div>"
   ]
  },
  {
   "cell_type": "code",
   "execution_count": 6,
   "metadata": {},
   "outputs": [
    {
     "name": "stdout",
     "output_type": "stream",
     "text": [
      "[\n",
      "    {\n",
      "        \"type\": \"نماد\",\n",
      "        \"type_detailed\": \"نماد شرکت\",\n",
      "        \"symbol\": \"فولاد\",\n",
      "        \"marker\": \"فولاد مبارکه اصفهان\",\n",
      "        \"span\": [\n",
      "            0,\n",
      "            19\n",
      "        ]\n",
      "    }\n",
      "]\n"
     ]
    }
   ],
   "source": [
    "text = \"فولاد مبارکه اصفهان\"\n",
    "run(text)"
   ]
  },
  {
   "cell_type": "markdown",
   "metadata": {},
   "source": [
    "test_find_2\n",
    "<div dir=\"rtl\">\n",
    "تشخیص ی نکره در نام شرکت\n",
    "</div>"
   ]
  },
  {
   "cell_type": "code",
   "execution_count": 7,
   "metadata": {},
   "outputs": [
    {
     "name": "stdout",
     "output_type": "stream",
     "text": [
      "[\n",
      "    {\n",
      "        \"type\": \"نماد\",\n",
      "        \"type_detailed\": \"نماد شرکت\",\n",
      "        \"symbol\": \"فولاد\",\n",
      "        \"marker\": \"فولاد مبارکه‌ی اصفهان\",\n",
      "        \"span\": [\n",
      "            0,\n",
      "            21\n",
      "        ]\n",
      "    }\n",
      "]\n"
     ]
    }
   ],
   "source": [
    "text = \"فولاد مبارکه‌ی اصفهان\"\n",
    "run(text)"
   ]
  },
  {
   "cell_type": "markdown",
   "metadata": {},
   "source": [
    "test_find_3\n",
    "<div dir=\"rtl\">\n",
    "تشخیص نمادها مانند فرابورس و همچنین سایر اصلاحات حاوی اعداد\n",
    "</div>"
   ]
  },
  {
   "cell_type": "code",
   "execution_count": 8,
   "metadata": {},
   "outputs": [
    {
     "name": "stdout",
     "output_type": "stream",
     "text": [
      "[\n",
      "    {\n",
      "        \"type\": \"نماد\",\n",
      "        \"type_detailed\": \"نماد شرکت\",\n",
      "        \"symbol\": \"فزر\",\n",
      "        \"marker\": \"فزر\",\n",
      "        \"span\": [\n",
      "            19,\n",
      "            22\n",
      "        ]\n",
      "    },\n",
      "    {\n",
      "        \"type\": \"رشد سهم\",\n",
      "        \"marker\": \"۱۵.۲ واحد تاثیر مثبت\",\n",
      "        \"span\": [\n",
      "            26,\n",
      "            46\n",
      "        ]\n",
      "    },\n",
      "    {\n",
      "        \"type\": \"روند\",\n",
      "        \"marker\": \"روند صعودی\",\n",
      "        \"span\": [\n",
      "            50,\n",
      "            60\n",
      "        ]\n",
      "    },\n",
      "    {\n",
      "        \"type\": \"نماد\",\n",
      "        \"type_detailed\": \"نماد شرکت\",\n",
      "        \"symbol\": \"فرابورس\",\n",
      "        \"marker\": \"فرابورس\",\n",
      "        \"span\": [\n",
      "            67,\n",
      "            74\n",
      "        ]\n",
      "    }\n",
      "]\n"
     ]
    }
   ],
   "source": [
    "text = 'جریان آغاز معاملات فزر با ۱۵.۲ واحد تاثیر مثبت بر روند صعودی بازار فرابورس اثر گذار بود.'\n",
    "run(text)"
   ]
  },
  {
   "cell_type": "markdown",
   "metadata": {},
   "source": [
    "test_find_4"
   ]
  },
  {
   "cell_type": "code",
   "execution_count": 9,
   "metadata": {},
   "outputs": [
    {
     "name": "stdout",
     "output_type": "stream",
     "text": [
      "[\n",
      "    {\n",
      "        \"type\": \"نماد\",\n",
      "        \"type_detailed\": \"نماد شرکت\",\n",
      "        \"symbol\": \"برکت\",\n",
      "        \"marker\": \"برکت\",\n",
      "        \"span\": [\n",
      "            0,\n",
      "            4\n",
      "        ]\n",
      "    },\n",
      "    {\n",
      "        \"type\": \"اطلاعیه\",\n",
      "        \"marker\": \"افشای ب\",\n",
      "        \"span\": [\n",
      "            10,\n",
      "            17\n",
      "        ]\n",
      "    },\n",
      "    {\n",
      "        \"type\": \"رشد سهم\",\n",
      "        \"marker\": \"سه درصد مثبت\",\n",
      "        \"span\": [\n",
      "            30,\n",
      "            42\n",
      "        ]\n",
      "    }\n",
      "]\n"
     ]
    }
   ],
   "source": [
    "text = 'برکت همین افشای ب باعث شد سهم سه درصد مثبت شود. بخاطر همین میگم پیگیر باشید.'\n",
    "run(text)"
   ]
  },
  {
   "cell_type": "markdown",
   "metadata": {},
   "source": [
    "test_find_5"
   ]
  },
  {
   "cell_type": "code",
   "execution_count": 10,
   "metadata": {},
   "outputs": [
    {
     "name": "stdout",
     "output_type": "stream",
     "text": [
      "[\n",
      "    {\n",
      "        \"type\": \"گزارش\",\n",
      "        \"marker\": \"گزارش فعالیت ماهانه\",\n",
      "        \"span\": [\n",
      "            0,\n",
      "            19\n",
      "        ]\n",
      "    },\n",
      "    {\n",
      "        \"type\": \"نماد\",\n",
      "        \"type_detailed\": \"نماد شرکت\",\n",
      "        \"symbol\": \"دیران\",\n",
      "        \"marker\": \"دیران\",\n",
      "        \"span\": [\n",
      "            57,\n",
      "            62\n",
      "        ]\n",
      "    }\n",
      "]\n"
     ]
    }
   ],
   "source": [
    "text = 'گزارش فعالیت ماهانه دوره ۱ ماهه منتهی به ۱۴۰۰̸۰۹̸۳۰ برای دیران منتشر شد.'\n",
    "run(text)"
   ]
  },
  {
   "cell_type": "markdown",
   "metadata": {},
   "source": [
    "test_find_6\n",
    "<div dir=\"rtl\">\n",
    "تشخیص نام انگلیسی\n",
    "</div>"
   ]
  },
  {
   "cell_type": "code",
   "execution_count": 11,
   "metadata": {},
   "outputs": [
    {
     "name": "stdout",
     "output_type": "stream",
     "text": [
      "[\n",
      "    {\n",
      "        \"type\": \"نماد\",\n",
      "        \"type_detailed\": \"نماد شرکت\",\n",
      "        \"symbol\": \"وسین\",\n",
      "        \"marker\": \"Sina Insurance\",\n",
      "        \"span\": [\n",
      "            0,\n",
      "            14\n",
      "        ]\n",
      "    }\n",
      "]\n"
     ]
    }
   ],
   "source": [
    "text = 'Sina Insurance is a good Insurance company!'\n",
    "run(text)"
   ]
  },
  {
   "cell_type": "markdown",
   "metadata": {},
   "source": [
    "test_find_7\n",
    "<div dir=\"rtl\">\n",
    "تشخیص آیدی سهم\n",
    "</div>"
   ]
  },
  {
   "cell_type": "code",
   "execution_count": 12,
   "metadata": {},
   "outputs": [
    {
     "name": "stdout",
     "output_type": "stream",
     "text": [
      "[\n",
      "    {\n",
      "        \"type\": \"نماد\",\n",
      "        \"type_detailed\": \"نماد شرکت\",\n",
      "        \"symbol\": \"وسین\",\n",
      "        \"marker\": \"IRO7VSNP0001\",\n",
      "        \"span\": [\n",
      "            1,\n",
      "            13\n",
      "        ]\n",
      "    }\n",
      "]\n"
     ]
    }
   ],
   "source": [
    "text = ' IRO7VSNP0001 is a good Insurance company!'\n",
    "run(text)"
   ]
  },
  {
   "cell_type": "markdown",
   "metadata": {},
   "source": [
    "test_find_8\n",
    "<div dir=\"rtl\">\n",
    "تشخیص فرم‌های مختلف سهم انرژی۳\n",
    "</div>"
   ]
  },
  {
   "cell_type": "code",
   "execution_count": 13,
   "metadata": {},
   "outputs": [
    {
     "name": "stdout",
     "output_type": "stream",
     "text": [
      "[\n",
      "    {\n",
      "        \"type\": \"نماد\",\n",
      "        \"type_detailed\": \"نماد شرکت\",\n",
      "        \"symbol\": \"انرژی3\",\n",
      "        \"marker\": \"انرژی ۳\",\n",
      "        \"span\": [\n",
      "            0,\n",
      "            7\n",
      "        ]\n",
      "    },\n",
      "    {\n",
      "        \"type\": \"نماد\",\n",
      "        \"type_detailed\": \"نماد شرکت\",\n",
      "        \"symbol\": \"انرژی3\",\n",
      "        \"marker\": \"انرژی‌۳\",\n",
      "        \"span\": [\n",
      "            12,\n",
      "            19\n",
      "        ]\n",
      "    },\n",
      "    {\n",
      "        \"type\": \"نماد\",\n",
      "        \"type_detailed\": \"نماد شرکت\",\n",
      "        \"symbol\": \"انرژی3\",\n",
      "        \"marker\": \"انرژی۳\",\n",
      "        \"span\": [\n",
      "            23,\n",
      "            29\n",
      "        ]\n",
      "    },\n",
      "    {\n",
      "        \"type\": \"نماد\",\n",
      "        \"type_detailed\": \"نماد شرکت\",\n",
      "        \"symbol\": \"انرژی3\",\n",
      "        \"marker\": \"انرژی 3\",\n",
      "        \"span\": [\n",
      "            33,\n",
      "            40\n",
      "        ]\n",
      "    },\n",
      "    {\n",
      "        \"type\": \"نماد\",\n",
      "        \"type_detailed\": \"نماد شرکت\",\n",
      "        \"symbol\": \"انرژی3\",\n",
      "        \"marker\": \"انرژی‌3\",\n",
      "        \"span\": [\n",
      "            44,\n",
      "            51\n",
      "        ]\n",
      "    },\n",
      "    {\n",
      "        \"type\": \"نماد\",\n",
      "        \"type_detailed\": \"نماد شرکت\",\n",
      "        \"symbol\": \"انرژی3\",\n",
      "        \"marker\": \"انرژی3\",\n",
      "        \"span\": [\n",
      "            55,\n",
      "            61\n",
      "        ]\n",
      "    }\n",
      "]\n"
     ]
    }
   ],
   "source": [
    "text = 'انرژی ۳  یا انرژی‌۳ یا انرژی۳ یا انرژی 3 یا انرژی‌3 یا انرژی3 خیلی خوب است.'\n",
    "run(text)"
   ]
  },
  {
   "cell_type": "markdown",
   "metadata": {},
   "source": [
    "test_find_9"
   ]
  },
  {
   "cell_type": "code",
   "execution_count": 14,
   "metadata": {},
   "outputs": [
    {
     "name": "stdout",
     "output_type": "stream",
     "text": [
      "[\n",
      "    {\n",
      "        \"type\": \"بازگشایی\",\n",
      "        \"marker\": \"بازگشایی\",\n",
      "        \"span\": [\n",
      "            4,\n",
      "            12\n",
      "        ]\n",
      "    }\n",
      "]\n"
     ]
    }
   ],
   "source": [
    "text = \"سهم بازگشایی شد\"\n",
    "run(text)"
   ]
  },
  {
   "cell_type": "markdown",
   "metadata": {},
   "source": [
    "test_find_10"
   ]
  },
  {
   "cell_type": "code",
   "execution_count": 15,
   "metadata": {},
   "outputs": [
    {
     "name": "stdout",
     "output_type": "stream",
     "text": [
      "[\n",
      "    {\n",
      "        \"type\": \"افزایش سرمایه\",\n",
      "        \"marker\": \"افزایش سرمایه\",\n",
      "        \"span\": [\n",
      "            4,\n",
      "            17\n",
      "        ]\n",
      "    }\n",
      "]\n"
     ]
    }
   ],
   "source": [
    "text = \"سهم افزایش سرمایه خورد\"\n",
    "run(text)"
   ]
  },
  {
   "cell_type": "markdown",
   "metadata": {},
   "source": [
    "test_find_11"
   ]
  },
  {
   "cell_type": "code",
   "execution_count": 16,
   "metadata": {},
   "outputs": [
    {
     "name": "stdout",
     "output_type": "stream",
     "text": [
      "[\n",
      "    {\n",
      "        \"type\": \"صف\",\n",
      "        \"marker\": \"صف خرید\",\n",
      "        \"span\": [\n",
      "            17,\n",
      "            24\n",
      "        ]\n",
      "    }\n",
      "]\n"
     ]
    }
   ],
   "source": [
    "text = \"به لحظات 12.30 و صف خرید نزدیک می شویم\"\n",
    "run(text)"
   ]
  },
  {
   "cell_type": "markdown",
   "metadata": {},
   "source": [
    "test_find_12"
   ]
  },
  {
   "cell_type": "code",
   "execution_count": 17,
   "metadata": {},
   "outputs": [
    {
     "name": "stdout",
     "output_type": "stream",
     "text": [
      "[\n",
      "    {\n",
      "        \"type\": \"روند\",\n",
      "        \"marker\": \"روندی صعودی\",\n",
      "        \"span\": [\n",
      "            17,\n",
      "            28\n",
      "        ]\n",
      "    }\n",
      "]\n"
     ]
    }
   ],
   "source": [
    "text = \"به لحظات 12.30 و روندی صعودی نزدیک می شویم\"\n",
    "run(text)"
   ]
  },
  {
   "cell_type": "markdown",
   "metadata": {},
   "source": [
    "test_find_13\n",
    "<div dir=\"rtl\">\n",
    "تشخیص اصطلاحات تکنیکالی\n",
    "</div>"
   ]
  },
  {
   "cell_type": "code",
   "execution_count": 18,
   "metadata": {},
   "outputs": [
    {
     "name": "stdout",
     "output_type": "stream",
     "text": [
      "[\n",
      "    {\n",
      "        \"type\": \"تکنیکال\",\n",
      "        \"marker\": \"کندلی\",\n",
      "        \"span\": [\n",
      "            53,\n",
      "            58\n",
      "        ]\n",
      "    },\n",
      "    {\n",
      "        \"type\": \"تکنیکال\",\n",
      "        \"marker\": \"کندل\",\n",
      "        \"span\": [\n",
      "            130,\n",
      "            134\n",
      "        ]\n",
      "    },\n",
      "    {\n",
      "        \"type\": \"تکنیکال\",\n",
      "        \"marker\": \"پولبک\",\n",
      "        \"span\": [\n",
      "            197,\n",
      "            202\n",
      "        ]\n",
      "    }\n",
      "]\n"
     ]
    }
   ],
   "source": [
    "text = 'یک نکته  تکنیکالی هم در صورت دستکاری نشدن اضافه کنم؛ کندلی که روز سه شنبه گذشته ثبت کرد بلحاظ فنی چون دو سوم آن از ابر خارج شده و کندل کاملی است و می تواند بعنوان تایید و خروج از ابر درنظر گرفت. و پولبک آن هم چهارشنبه توضیحاتش گذشت. '\n",
    "run(text)"
   ]
  },
  {
   "cell_type": "markdown",
   "metadata": {},
   "source": [
    "test_find_14"
   ]
  },
  {
   "cell_type": "code",
   "execution_count": 19,
   "metadata": {},
   "outputs": [
    {
     "name": "stdout",
     "output_type": "stream",
     "text": [
      "[\n",
      "    {\n",
      "        \"type\": \"نماد\",\n",
      "        \"type_detailed\": \"نماد شرکت\",\n",
      "        \"symbol\": \"فراکاب\",\n",
      "        \"marker\": \"فراکابی\",\n",
      "        \"span\": [\n",
      "            0,\n",
      "            7\n",
      "        ]\n",
      "    },\n",
      "    {\n",
      "        \"type\": \"نماد\",\n",
      "        \"type_detailed\": \"نماد شرکت\",\n",
      "        \"symbol\": \"فراکاب\",\n",
      "        \"marker\": \"فراکاب\",\n",
      "        \"span\": [\n",
      "            23,\n",
      "            29\n",
      "        ]\n",
      "    },\n",
      "    {\n",
      "        \"type\": \"نماد\",\n",
      "        \"type_detailed\": \"نماد شرکت\",\n",
      "        \"symbol\": \"بورس\",\n",
      "        \"marker\": \"بورس\",\n",
      "        \"span\": [\n",
      "            46,\n",
      "            50\n",
      "        ]\n",
      "    },\n",
      "    {\n",
      "        \"type\": \"نماد\",\n",
      "        \"type_detailed\": \"نماد شرکت\",\n",
      "        \"symbol\": \"کالا\",\n",
      "        \"marker\": \"کالا\",\n",
      "        \"span\": [\n",
      "            53,\n",
      "            57\n",
      "        ]\n",
      "    },\n",
      "    {\n",
      "        \"type\": \"تکنیکال\",\n",
      "        \"marker\": \"کندل\",\n",
      "        \"span\": [\n",
      "            58,\n",
      "            62\n",
      "        ]\n",
      "    }\n",
      "]\n"
     ]
    }
   ],
   "source": [
    "text = \"فراکابی ها همگی خوبند. فراکاب ها و علی الخصوص بورس و کالا کندل پرقدرتی زدن\"\n",
    "run(text)"
   ]
  },
  {
   "cell_type": "markdown",
   "metadata": {},
   "source": [
    "test_find_15"
   ]
  },
  {
   "cell_type": "code",
   "execution_count": 20,
   "metadata": {},
   "outputs": [
    {
     "name": "stdout",
     "output_type": "stream",
     "text": [
      "[\n",
      "    {\n",
      "        \"type\": \"ریزش\",\n",
      "        \"marker\": \"ریزش\",\n",
      "        \"span\": [\n",
      "            0,\n",
      "            4\n",
      "        ]\n",
      "    }\n",
      "]\n"
     ]
    }
   ],
   "source": [
    "text = 'ریزش شدید جفت ارز های فارکس '\n",
    "run(text)"
   ]
  },
  {
   "cell_type": "markdown",
   "metadata": {},
   "source": [
    "test_find_16"
   ]
  },
  {
   "cell_type": "code",
   "execution_count": 21,
   "metadata": {},
   "outputs": [
    {
     "name": "stdout",
     "output_type": "stream",
     "text": [
      "[\n",
      "    {\n",
      "        \"type\": \"تکنیکال\",\n",
      "        \"marker\": \"کف\",\n",
      "        \"span\": [\n",
      "            6,\n",
      "            8\n",
      "        ]\n",
      "    },\n",
      "    {\n",
      "        \"type\": \"تکنیکال\",\n",
      "        \"marker\": \"دوقلو\",\n",
      "        \"span\": [\n",
      "            9,\n",
      "            14\n",
      "        ]\n",
      "    }\n",
      "]\n"
     ]
    }
   ],
   "source": [
    "text = 'تشکیل کف دوقلو و پیش بسوی ۱۲۰۰'\n",
    "run(text)"
   ]
  },
  {
   "cell_type": "markdown",
   "metadata": {},
   "source": [
    "test_find_17"
   ]
  },
  {
   "cell_type": "code",
   "execution_count": 22,
   "metadata": {},
   "outputs": [
    {
     "name": "stdout",
     "output_type": "stream",
     "text": [
      "[\n",
      "    {\n",
      "        \"type\": \"گزارش\",\n",
      "        \"marker\": \"گزارش نه ماهه\",\n",
      "        \"span\": [\n",
      "            0,\n",
      "            13\n",
      "        ]\n",
      "    }\n",
      "]\n"
     ]
    }
   ],
   "source": [
    "text = 'گزارش نه ماهه هم که خوب نبوده'\n",
    "run(text)"
   ]
  },
  {
   "cell_type": "markdown",
   "metadata": {},
   "source": [
    "test_find_18"
   ]
  },
  {
   "cell_type": "code",
   "execution_count": 23,
   "metadata": {},
   "outputs": [
    {
     "name": "stdout",
     "output_type": "stream",
     "text": [
      "[\n",
      "    {\n",
      "        \"type\": \"تکنیکال\",\n",
      "        \"marker\": \"سروشانه\",\n",
      "        \"span\": [\n",
      "            24,\n",
      "            31\n",
      "        ]\n",
      "    }\n",
      "]\n"
     ]
    }
   ],
   "source": [
    "text = 'در یک نگاه کلاسیک الگوی سروشانه رو هم ساخته'\n",
    "run(text)"
   ]
  },
  {
   "cell_type": "markdown",
   "metadata": {},
   "source": [
    "test_find_19"
   ]
  },
  {
   "cell_type": "code",
   "execution_count": 24,
   "metadata": {},
   "outputs": [
    {
     "name": "stdout",
     "output_type": "stream",
     "text": [
      "[\n",
      "    {\n",
      "        \"type\": \"تکنیکال\",\n",
      "        \"marker\": \"مکدی\",\n",
      "        \"span\": [\n",
      "            0,\n",
      "            4\n",
      "        ]\n",
      "    },\n",
      "    {\n",
      "        \"type\": \"تکنیکال\",\n",
      "        \"marker\": \"کراس\",\n",
      "        \"span\": [\n",
      "            26,\n",
      "            30\n",
      "        ]\n",
      "    }\n",
      "]\n"
     ]
    }
   ],
   "source": [
    "text = 'مکدی هم شرایط خوبی داره و کراس رو به بالا زده'\n",
    "run(text)"
   ]
  },
  {
   "cell_type": "markdown",
   "metadata": {},
   "source": [
    "test_find_20"
   ]
  },
  {
   "cell_type": "code",
   "execution_count": 25,
   "metadata": {},
   "outputs": [
    {
     "name": "stdout",
     "output_type": "stream",
     "text": [
      "[\n",
      "    {\n",
      "        \"type\": \"تکنیکال\",\n",
      "        \"marker\": \"ابر کومو\",\n",
      "        \"span\": [\n",
      "            18,\n",
      "            26\n",
      "        ]\n",
      "    },\n",
      "    {\n",
      "        \"type\": \"تکنیکال\",\n",
      "        \"marker\": \"کف سازی\",\n",
      "        \"span\": [\n",
      "            29,\n",
      "            36\n",
      "        ]\n",
      "    }\n",
      "]\n"
     ]
    }
   ],
   "source": [
    "text = ' بازار با عبور از ابر کومو و کف سازی دلاری'\n",
    "run(text)"
   ]
  },
  {
   "cell_type": "markdown",
   "metadata": {},
   "source": [
    "test_find_21"
   ]
  },
  {
   "cell_type": "code",
   "execution_count": 26,
   "metadata": {},
   "outputs": [
    {
     "name": "stdout",
     "output_type": "stream",
     "text": [
      "[\n",
      "    {\n",
      "        \"type\": \"تکنیکال\",\n",
      "        \"marker\": \"کد به کد\",\n",
      "        \"span\": [\n",
      "            3,\n",
      "            11\n",
      "        ]\n",
      "    }\n",
      "]\n"
     ]
    }
   ],
   "source": [
    "text = 'یه کد به کد داشت تو قیمت ۱۰۰۰'\n",
    "run(text)"
   ]
  },
  {
   "cell_type": "markdown",
   "metadata": {},
   "source": [
    "test_find_22"
   ]
  },
  {
   "cell_type": "code",
   "execution_count": 27,
   "metadata": {},
   "outputs": [
    {
     "name": "stdout",
     "output_type": "stream",
     "text": [
      "[\n",
      "    {\n",
      "        \"type\": \"توقف نماد\",\n",
      "        \"marker\": \"توقف نماد\",\n",
      "        \"span\": [\n",
      "            7,\n",
      "            16\n",
      "        ]\n",
      "    }\n",
      "]\n"
     ]
    }
   ],
   "source": [
    "text = ' پس از توقف نماد معاملاتی باز خواهد شد.'\n",
    "run(text)"
   ]
  },
  {
   "cell_type": "markdown",
   "metadata": {},
   "source": [
    "test_find_23"
   ]
  },
  {
   "cell_type": "code",
   "execution_count": 28,
   "metadata": {},
   "outputs": [
    {
     "name": "stdout",
     "output_type": "stream",
     "text": [
      "[\n",
      "    {\n",
      "        \"type\": \"نماد\",\n",
      "        \"type_detailed\": \"نماد شرکت\",\n",
      "        \"symbol\": \"انرژی2\",\n",
      "        \"marker\": \"انرژی ۲\",\n",
      "        \"span\": [\n",
      "            13,\n",
      "            20\n",
      "        ]\n",
      "    }\n",
      "]\n"
     ]
    }
   ],
   "source": [
    "text = 'خبر دارم از #انرژی ۲'\n",
    "run(text)"
   ]
  },
  {
   "cell_type": "markdown",
   "metadata": {},
   "source": [
    "test_find_24\n",
    "<div dir=\"rtl\">\n",
    "توانایی در نظر گرفتن کلمات بی‌ارزش مانند اصفهان در شرکت فولاد مبارکه‌ی اصفهان\n",
    "</div>"
   ]
  },
  {
   "cell_type": "code",
   "execution_count": 29,
   "metadata": {},
   "outputs": [
    {
     "name": "stdout",
     "output_type": "stream",
     "text": [
      "[\n",
      "    {\n",
      "        \"type\": \"نماد\",\n",
      "        \"type_detailed\": \"نماد شرکت\",\n",
      "        \"symbol\": \"فولاد\",\n",
      "        \"marker\": \"فولاد مبارکه\",\n",
      "        \"span\": [\n",
      "            4,\n",
      "            16\n",
      "        ]\n",
      "    },\n",
      "    {\n",
      "        \"type\": \"نماد\",\n",
      "        \"type_detailed\": \"نماد شرکت\",\n",
      "        \"symbol\": \"فولاد\",\n",
      "        \"marker\": \"فولاد مبارکه‌ی\",\n",
      "        \"span\": [\n",
      "            38,\n",
      "            52\n",
      "        ]\n",
      "    }\n",
      "]\n"
     ]
    }
   ],
   "source": [
    "text = \"سهم فولاد مبارکه بسیار عالی است و سهم فولاد مبارکه‌ی شهر اصفهان عالی است.\"\n",
    "run(text)"
   ]
  },
  {
   "cell_type": "markdown",
   "metadata": {},
   "source": [
    "test_find_25\n",
    "<div dir=\"rtl\">\n",
    "توانایی تطبیق «پالایش نفت بندر عباس» با «پالایش نفت» ذ\n",
    "</div>"
   ]
  },
  {
   "cell_type": "code",
   "execution_count": 30,
   "metadata": {},
   "outputs": [
    {
     "name": "stdout",
     "output_type": "stream",
     "text": [
      "[\n",
      "    {\n",
      "        \"type\": \"نماد\",\n",
      "        \"type_detailed\": \"نماد شرکت\",\n",
      "        \"symbol\": \"شبندر\",\n",
      "        \"marker\": \"پالایش بندرعباس\",\n",
      "        \"span\": [\n",
      "            0,\n",
      "            15\n",
      "        ]\n",
      "    }\n",
      "]\n"
     ]
    }
   ],
   "source": [
    "text = 'پالایش بندرعباس دارم ببین اصن عالیه'\n",
    "run(text)"
   ]
  },
  {
   "cell_type": "markdown",
   "metadata": {},
   "source": [
    "test_find_26"
   ]
  },
  {
   "cell_type": "code",
   "execution_count": 31,
   "metadata": {},
   "outputs": [
    {
     "name": "stdout",
     "output_type": "stream",
     "text": [
      "[\n",
      "    {\n",
      "        \"type\": \"نماد\",\n",
      "        \"type_detailed\": \"نماد شرکت\",\n",
      "        \"symbol\": \"نفت قشم\",\n",
      "        \"marker\": \"نفت قشم\",\n",
      "        \"span\": [\n",
      "            0,\n",
      "            7\n",
      "        ]\n",
      "    }\n",
      "]\n"
     ]
    }
   ],
   "source": [
    "text = 'نفت قشم ولک عالیه'\n",
    "run(text)"
   ]
  },
  {
   "cell_type": "markdown",
   "metadata": {},
   "source": [
    "<h2 dir=\"rtl\">\n",
    "تشخیص نمادهای حق‌تقدم\n",
    "</h2>\n",
    "test_find_hagh_1"
   ]
  },
  {
   "cell_type": "code",
   "execution_count": 32,
   "metadata": {},
   "outputs": [
    {
     "name": "stdout",
     "output_type": "stream",
     "text": [
      "[\n",
      "    {\n",
      "        \"type\": \"نماد\",\n",
      "        \"type_detailed\": \"نماد حق تقدم شرکت\",\n",
      "        \"symbol\": \"کویر\",\n",
      "        \"marker\": \"کویرح\",\n",
      "        \"span\": [\n",
      "            3,\n",
      "            8\n",
      "        ]\n",
      "    },\n",
      "    {\n",
      "        \"type\": \"نماد\",\n",
      "        \"type_detailed\": \"نماد شرکت\",\n",
      "        \"symbol\": \"کویر\",\n",
      "        \"marker\": \"کویر\",\n",
      "        \"span\": [\n",
      "            24,\n",
      "            28\n",
      "        ]\n",
      "    }\n",
      "]\n"
     ]
    }
   ],
   "source": [
    "text = \"من کویرح را فروختم و به کویر تبدیل کردم.\"\n",
    "run(text)"
   ]
  },
  {
   "cell_type": "markdown",
   "metadata": {},
   "source": [
    "test_find_hagh_2"
   ]
  },
  {
   "cell_type": "code",
   "execution_count": 33,
   "metadata": {},
   "outputs": [
    {
     "name": "stdout",
     "output_type": "stream",
     "text": [
      "[\n",
      "    {\n",
      "        \"type\": \"نماد\",\n",
      "        \"type_detailed\": \"نماد حق تقدم شرکت\",\n",
      "        \"symbol\": \"کویر\",\n",
      "        \"marker\": \"حق تقدم کویر\",\n",
      "        \"span\": [\n",
      "            7,\n",
      "            19\n",
      "        ]\n",
      "    }\n",
      "]\n"
     ]
    }
   ],
   "source": [
    "text = \"من سهم حق تقدم کویر را خریدم\"\n",
    "run(text)"
   ]
  },
  {
   "cell_type": "markdown",
   "metadata": {},
   "source": [
    "test_find_hagh_3"
   ]
  },
  {
   "cell_type": "code",
   "execution_count": 34,
   "metadata": {},
   "outputs": [
    {
     "name": "stdout",
     "output_type": "stream",
     "text": [
      "[\n",
      "    {\n",
      "        \"type\": \"نماد\",\n",
      "        \"type_detailed\": \"نماد حق تقدم شرکت\",\n",
      "        \"symbol\": \"کویر\",\n",
      "        \"marker\": \"حق‌تقدم کویر\",\n",
      "        \"span\": [\n",
      "            7,\n",
      "            19\n",
      "        ]\n",
      "    }\n",
      "]\n"
     ]
    }
   ],
   "source": [
    "text = \"من سهم حق‌تقدم کویر را خریدم\"\n",
    "run(text)"
   ]
  },
  {
   "cell_type": "markdown",
   "metadata": {},
   "source": [
    "test_find_hagh_4"
   ]
  },
  {
   "cell_type": "code",
   "execution_count": 35,
   "metadata": {},
   "outputs": [
    {
     "name": "stdout",
     "output_type": "stream",
     "text": [
      "[\n",
      "    {\n",
      "        \"type\": \"نماد\",\n",
      "        \"type_detailed\": \"نماد حق تقدم شرکت\",\n",
      "        \"symbol\": \"کویر\",\n",
      "        \"marker\": \"تقدم کویر\",\n",
      "        \"span\": [\n",
      "            7,\n",
      "            16\n",
      "        ]\n",
      "    }\n",
      "]\n"
     ]
    }
   ],
   "source": [
    "text = \"من سهم تقدم کویر را خریدم\"\n",
    "run(text)"
   ]
  },
  {
   "cell_type": "markdown",
   "metadata": {},
   "source": [
    "<h2 dir=\"rtl\">\n",
    "بررسی سرعت عملکرد کد روی دیتای بزرگ\n",
    "</h2>"
   ]
  },
  {
   "cell_type": "code",
   "execution_count": 36,
   "metadata": {},
   "outputs": [
    {
     "name": "stderr",
     "output_type": "stream",
     "text": [
      "100%|██████████| 3541/3541 [02:21<00:00, 25.05it/s]"
     ]
    },
    {
     "name": "stdout",
     "output_type": "stream",
     "text": [
      "CPU times: user 2min 20s, sys: 1.22 s, total: 2min 21s\n",
      "Wall time: 2min 21s\n"
     ]
    },
    {
     "name": "stderr",
     "output_type": "stream",
     "text": [
      "\n"
     ]
    }
   ],
   "source": [
    "%%time\n",
    "# Test Speed on 500KB text.\n",
    "import pandas as pd\n",
    "\n",
    "comments = pd.read_csv(\"comments.csv\")\n",
    "for comment in tqdm.tqdm(comments['body']):\n",
    "    tem.find_entities(comment)"
   ]
  },
  {
   "cell_type": "code",
   "execution_count": null,
   "metadata": {},
   "outputs": [],
   "source": []
  }
 ],
 "metadata": {
  "kernelspec": {
   "display_name": "Python 3",
   "language": "python",
   "name": "python3"
  },
  "language_info": {
   "codemirror_mode": {
    "name": "ipython",
    "version": 3
   },
   "file_extension": ".py",
   "mimetype": "text/x-python",
   "name": "python",
   "nbconvert_exporter": "python",
   "pygments_lexer": "ipython3",
   "version": "3.9.12"
  }
 },
 "nbformat": 4,
 "nbformat_minor": 5
}