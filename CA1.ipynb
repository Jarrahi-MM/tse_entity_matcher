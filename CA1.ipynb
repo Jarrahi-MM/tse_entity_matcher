{
 "cells": [
  {
   "cell_type": "markdown",
   "id": "bb0605e5",
   "metadata": {},
   "source": [
    "# Read Data and Datasets"
   ]
  },
  {
   "cell_type": "code",
   "execution_count": null,
   "id": "db91e90f",
   "metadata": {},
   "outputs": [],
   "source": []
  },
  {
   "cell_type": "markdown",
   "id": "aeeaa8f4",
   "metadata": {},
   "source": [
    "# Preprocess"
   ]
  },
  {
   "cell_type": "code",
   "execution_count": null,
   "id": "fd83b502",
   "metadata": {},
   "outputs": [],
   "source": []
  },
  {
   "cell_type": "markdown",
   "id": "c807c20a",
   "metadata": {},
   "source": [
    "# ?"
   ]
  },
  {
   "cell_type": "code",
   "execution_count": null,
   "id": "fccbe1c5",
   "metadata": {},
   "outputs": [],
   "source": []
  }
 ],
 "metadata": {
  "kernelspec": {
   "display_name": "Python 3 (ipykernel)",
   "language": "python",
   "name": "python3"
  },
  "language_info": {
   "codemirror_mode": {
    "name": "ipython",
    "version": 3
   },
   "file_extension": ".py",
   "mimetype": "text/x-python",
   "name": "python",
   "nbconvert_exporter": "python",
   "pygments_lexer": "ipython3",
   "version": "3.9.7"
  }
 },
 "nbformat": 4,
 "nbformat_minor": 5
}
